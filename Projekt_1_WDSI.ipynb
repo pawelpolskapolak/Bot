{
  "nbformat": 4,
  "nbformat_minor": 0,
  "metadata": {
    "colab": {
      "name": "Projekt_1_WDSI.ipynb",
      "provenance": [],
      "authorship_tag": "ABX9TyNmXfDQAm+1JOtwXKfMqcOT",
      "include_colab_link": true
    },
    "kernelspec": {
      "name": "python3",
      "display_name": "Python 3"
    },
    "language_info": {
      "name": "python"
    }
  },
  "cells": [
    {
      "cell_type": "markdown",
      "metadata": {
        "id": "view-in-github",
        "colab_type": "text"
      },
      "source": [
        "<a href=\"https://colab.research.google.com/github/pawelpolskapolak/Bot/blob/main/Projekt_1_WDSI.ipynb\" target=\"_parent\"><img src=\"https://colab.research.google.com/assets/colab-badge.svg\" alt=\"Open In Colab\"/></a>"
      ]
    },
    {
      "cell_type": "code",
      "execution_count": null,
      "metadata": {
        "id": "k1KBsvcV_nl0"
      },
      "outputs": [],
      "source": [
        ""
      ]
    }
  ]
}